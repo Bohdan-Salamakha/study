{
  "nbformat": 4,
  "nbformat_minor": 0,
  "metadata": {
    "colab": {
      "provenance": [],
      "authorship_tag": "ABX9TyN3glRM7BoxKo/fNjhePMSo",
      "include_colab_link": true
    },
    "kernelspec": {
      "name": "python3",
      "display_name": "Python 3"
    },
    "language_info": {
      "name": "python"
    }
  },
  "cells": [
    {
      "cell_type": "markdown",
      "metadata": {
        "id": "view-in-github",
        "colab_type": "text"
      },
      "source": [
        "<a href=\"https://colab.research.google.com/github/Bohdan-Salamakha/study/blob/master/anu/data_science/Data_Pre_processing_and_Visualisation_3.ipynb\" target=\"_parent\"><img src=\"https://colab.research.google.com/assets/colab-badge.svg\" alt=\"Open In Colab\"/></a>"
      ]
    },
    {
      "cell_type": "code",
      "execution_count": null,
      "metadata": {
        "id": "ChtImNArBLvp"
      },
      "outputs": [],
      "source": [
        "import pandas as pd\n",
        "\n",
        "# Загрузка данных\n",
        "file_path = '/path/to/Data Assignment 3.csv'  # Замените на путь к вашему файлу\n",
        "data = pd.read_csv(file_path)\n",
        "\n",
        "# Проверка на пропущенные значения\n",
        "missing_values = data.isnull().sum()\n",
        "print(\"Количество пропущенных значений в каждом столбце:\")\n",
        "print(missing_values)\n",
        "\n",
        "# Уникальные значения в столбце 'country' для выявления непоследовательности\n",
        "unique_countries = data['country'].unique()\n",
        "print(\"\\nУникальные значения в столбце 'country':\")\n",
        "print(unique_countries)\n",
        "\n",
        "# Проверка типов данных\n",
        "data_types = data.dtypes\n",
        "print(\"\\nТипы данных столбцов:\")\n",
        "print(data_types)\n"
      ]
    }
  ]
}